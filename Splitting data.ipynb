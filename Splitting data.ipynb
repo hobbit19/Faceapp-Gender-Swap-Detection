{
 "cells": [
  {
   "cell_type": "code",
   "execution_count": 10,
   "metadata": {},
   "outputs": [],
   "source": [
    "import os\n",
    "import shutil\n",
    "import numpy as np\n",
    "\n",
    "fake_dir, original_dir = 'fake', 'original'\n",
    "\n",
    "new_dir = 'data'\n",
    "train_pct = 0.8"
   ]
  },
  {
   "cell_type": "code",
   "execution_count": 7,
   "metadata": {},
   "outputs": [
    {
     "data": {
      "text/plain": [
       "(270, 259)"
      ]
     },
     "execution_count": 7,
     "metadata": {},
     "output_type": "execute_result"
    }
   ],
   "source": [
    "# get lists of all data\n",
    "fake_images = os.listdir(fake_dir)\n",
    "original_images = os.listdir(original_dir)\n",
    "len(fake_images), len(original_images)"
   ]
  },
  {
   "cell_type": "code",
   "execution_count": 16,
   "metadata": {},
   "outputs": [],
   "source": [
    "for c in ['fake', 'original']:\n",
    "    image_files = os.listdir(c)\n",
    "    idx = list(range(len(image_files)))\n",
    "    rand_idx = np.random.permutation(idx)\n",
    "    end_idx = int(len(idx)*train_pct)\n",
    "    train_idx = idx[:end_idx]\n",
    "    valid_idx = idx[end_idx:]\n",
    "    \n",
    "    # copy data to train/valid folders\n",
    "    ## Make a new directory for each \n",
    "    if not os.path.isdir(os.path.join(new_dir,'train')):\n",
    "        os.mkdir('data/train')\n",
    "    if not os.path.isdir(os.path.join(new_dir,'valid')):\n",
    "        os.mkdir('data/valid')\n",
    "    if not os.path.isdir(os.path.join(new_dir,'train', c)):\n",
    "        os.mkdir(f'data/train/{c}')\n",
    "    if not os.path.isdir(os.path.join(new_dir,'valid', c)):\n",
    "        os.mkdir(f'data/valid/{c}')\n",
    "    \n",
    "    \n",
    "    # move training data\n",
    "    for f in train_idx:\n",
    "        shutil.copy2(os.path.join(c, image_files[f]), os.path.join(new_dir, 'train', c))\n",
    "    for f in valid_idx:\n",
    "        shutil.copy2(os.path.join(c, image_files[f]), os.path.join(new_dir, 'valid', c))"
   ]
  },
  {
   "cell_type": "code",
   "execution_count": 17,
   "metadata": {},
   "outputs": [
    {
     "data": {
      "text/plain": [
       "(207, 52)"
      ]
     },
     "execution_count": 17,
     "metadata": {},
     "output_type": "execute_result"
    }
   ],
   "source": [
    "len(os.listdir(os.path.join(new_dir,'train', 'original'))), len(os.listdir(os.path.join(new_dir,'valid', 'original')))"
   ]
  },
  {
   "cell_type": "code",
   "execution_count": 18,
   "metadata": {},
   "outputs": [
    {
     "data": {
      "text/plain": [
       "(216, 54)"
      ]
     },
     "execution_count": 18,
     "metadata": {},
     "output_type": "execute_result"
    }
   ],
   "source": [
    "len(os.listdir(os.path.join(new_dir,'train', 'fake'))), len(os.listdir(os.path.join(new_dir,'valid', 'fake')))"
   ]
  }
 ],
 "metadata": {
  "kernelspec": {
   "display_name": "Python 3",
   "language": "python",
   "name": "python3"
  },
  "language_info": {
   "codemirror_mode": {
    "name": "ipython",
    "version": 3
   },
   "file_extension": ".py",
   "mimetype": "text/x-python",
   "name": "python",
   "nbconvert_exporter": "python",
   "pygments_lexer": "ipython3",
   "version": "3.7.6"
  }
 },
 "nbformat": 4,
 "nbformat_minor": 4
}
